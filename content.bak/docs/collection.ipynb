{
 "cells": [
  {
   "cell_type": "raw",
   "id": "dea56219",
   "metadata": {
    "vscode": {
     "languageId": "raw"
    }
   },
   "source": [
    "---\n",
    "title: Collection\n",
    "---"
   ]
  },
  {
   "cell_type": "markdown",
   "id": "cf59bdf9",
   "metadata": {},
   "source": [
    "A _collection_ is an entity that holds any number of self-similar simulations.\n",
    "Read through the [introduction](/docs) to learn about the concept of `bamboost`.\n",
    "\n",
    "The most important thing to remember is that every collection has a current path, and a unique identifier, which is an automatically assigned 10 digit hex number. This unique identifier is stored in a file inside the collection's path (`.bamboost-collection-<UID>`). The uid is embedded in the file name to speed up it's discovery.\n",
    "\n",
    "## The collection API\n",
    "\n",
    "We provide a single entry point to work with a collection, the [Collection](/apidocs/core/collection#Collection) class.\n"
   ]
  },
  {
   "cell_type": "code",
   "execution_count": 1,
   "id": "b2a05561",
   "metadata": {},
   "outputs": [],
   "source": [
    "from bamboost import Collection\n",
    "\n",
    "coll = Collection(uid=\"315628DE80\")"
   ]
  },
  {
   "cell_type": "markdown",
   "id": "1c6273ea",
   "metadata": {},
   "source": [
    "To make best use of `bamboost`, use the unique 10 digit identifier to reference any instance of `Collection`.\n",
    "The remaining (relevant) arguments of `Collection` are:\n",
    "\n",
    "- **path**: The path to the collection. This is useful to create a new collection → if non-existing, it will initialize a new one at the given path. Otherwise it will return the existing one. While for long-standing collections, using it's uid should be preferred, using a relative path can be benefitial in certain scenarios, e.g. for throw away data, or when you organize your data inside your project folder in a specific way.\n",
    "  <Callout type=\"warn\">\n",
    "  Note that you can only specify **either** a path or an uid, and NOT both.\n",
    "  </Callout>\n",
    "- **create_if_not_exist**: By default, this is `False`. Use `True` to raise an error if the collection does not exist.\n",
    "- **sync_collection**: By default, this is `True`. The collection data, $i.e.$ the metadata and parameters of it's simulations is loaded from the sql database (caching system) for performance reasons, avoiding going through the individual files, reading the necessary information.\n",
    "  If this flag is `True`, the actuality of the cache is validated before returning the collection. Turning this off is only useful if you work on a slow filesystem ($e.g.$ the work drive of ETH's Euler) or you're collection is enormously large and you are certain that the cache is already up to date.\n"
   ]
  },
  {
   "cell_type": "markdown",
   "id": "b4bde520",
   "metadata": {},
   "source": [
    "## The dataframe\n",
    "\n",
    "`coll.df` returns a `pandas.DataFrame` of the collection.\n"
   ]
  },
  {
   "cell_type": "code",
   "execution_count": 2,
   "id": "0a86e247",
   "metadata": {},
   "outputs": [
    {
     "data": {
      "text/html": [
       "<div>\n",
       "<style scoped>\n",
       "    .dataframe tbody tr th:only-of-type {\n",
       "        vertical-align: middle;\n",
       "    }\n",
       "\n",
       "    .dataframe tbody tr th {\n",
       "        vertical-align: top;\n",
       "    }\n",
       "\n",
       "    .dataframe thead th {\n",
       "        text-align: right;\n",
       "    }\n",
       "</style>\n",
       "<table border=\"1\" class=\"dataframe\">\n",
       "  <thead>\n",
       "    <tr style=\"text-align: right;\">\n",
       "      <th></th>\n",
       "      <th>name</th>\n",
       "      <th>created_at</th>\n",
       "      <th>description</th>\n",
       "      <th>status</th>\n",
       "      <th>submitted</th>\n",
       "      <th>bar</th>\n",
       "      <th>param1</th>\n",
       "    </tr>\n",
       "  </thead>\n",
       "  <tbody>\n",
       "    <tr>\n",
       "      <th>0</th>\n",
       "      <td>04d11573c0</td>\n",
       "      <td>2025-04-16 22:57:53.480708</td>\n",
       "      <td></td>\n",
       "      <td>initialized</td>\n",
       "      <td>False</td>\n",
       "      <td>[2, 3, 4, 5]</td>\n",
       "      <td>73</td>\n",
       "    </tr>\n",
       "    <tr>\n",
       "      <th>1</th>\n",
       "      <td>c46d84cbd5</td>\n",
       "      <td>2025-04-16 11:11:22.879891</td>\n",
       "      <td></td>\n",
       "      <td>initialized</td>\n",
       "      <td>False</td>\n",
       "      <td>[2, 3, 4, 5]</td>\n",
       "      <td>73</td>\n",
       "    </tr>\n",
       "  </tbody>\n",
       "</table>\n",
       "</div>"
      ],
      "text/plain": [
       "         name                 created_at description       status  submitted  \\\n",
       "0  04d11573c0 2025-04-16 22:57:53.480708              initialized      False   \n",
       "1  c46d84cbd5 2025-04-16 11:11:22.879891              initialized      False   \n",
       "\n",
       "            bar  param1  \n",
       "0  [2, 3, 4, 5]      73  \n",
       "1  [2, 3, 4, 5]      73  "
      ]
     },
     "execution_count": 2,
     "metadata": {},
     "output_type": "execute_result"
    }
   ],
   "source": [
    "coll.df"
   ]
  },
  {
   "cell_type": "markdown",
   "id": "3d33436a",
   "metadata": {},
   "source": [
    "The first few columns are always reserved for the fixed (and always existing) metadata. It includes `name`, `created_at` (datetime when the simulation was created), `description` (an optional string with some information), `status` (the current status of the simulation, see [here](/apidocs/core/simulation/base#Status)), and `submitted` (a boolean flag).\n",
    "The remaining columns are the custom parameter space.\n"
   ]
  },
  {
   "cell_type": "markdown",
   "id": "090fa0c8",
   "metadata": {},
   "source": [
    "If the parameter space has nested parameters, meaning parameters that are dictionaries themself, they are returned flattened in the returned dataframe. $E.g.$ if the simulations know a parameter `body: {\"E\": 1e6, \"nu\": 0.3}`, then the corresponding columns will be `body.E` and `body.nu`.\n",
    "\n",
    "With this in mind, it is best to avoid any dots in parameter names to avoid breaking the flattening logic.\n"
   ]
  },
  {
   "cell_type": "markdown",
   "id": "8a31b565",
   "metadata": {},
   "source": [
    "## Adding simulations\n",
    "\n",
    "New simulations are added to an existing collection using [coll.create_simulation(...)](/apidocs/core/collection#Collection.create_simulation).\n"
   ]
  },
  {
   "cell_type": "markdown",
   "id": "27d2c8e7",
   "metadata": {},
   "source": [
    "## Filtering\n",
    "\n",
    "If you are familiar with pandas, simply use the dataframe `coll.df` to find the wanted simulations.\n",
    "\n",
    "Alternatively, `bamboost` has a concept named **Filtered collection**. It is a new `Collection` instance with a filter applied. The advantage to pure pandas is that a filtered collection offers all the same methods a normal collection has, just acting on a subset of the data.\n",
    "It will also work correctly if the collection is altered (live), meaning new simulations are added since the creation of the instance.\n",
    "\n",
    "Use the `collection.filter(...)` method to get a filtered collection. The conditions must use the `Key` class. $E.g.$ use\n",
    "\n",
    "```python\n",
    "filtered_coll = coll.filter(coll.k['param1'] > 70)\n",
    "```\n",
    "\n",
    "to only consider simulations where `param1 > 70`. Now you can display the filtered collection.\n",
    "\n",
    "```python\n",
    "filtered_coll.df\n",
    "```\n",
    "\n",
    "To be continued...\n"
   ]
  }
 ],
 "metadata": {
  "kernelspec": {
   "display_name": ".venv",
   "language": "python",
   "name": "python3"
  },
  "language_info": {
   "codemirror_mode": {
    "name": "ipython",
    "version": 3
   },
   "file_extension": ".py",
   "mimetype": "text/x-python",
   "name": "python",
   "nbconvert_exporter": "python",
   "pygments_lexer": "ipython3",
   "version": "3.13.3"
  }
 },
 "nbformat": 4,
 "nbformat_minor": 5
}

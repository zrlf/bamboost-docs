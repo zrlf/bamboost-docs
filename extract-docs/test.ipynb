{
 "cells": [
  {
   "cell_type": "code",
   "execution_count": 19,
   "metadata": {},
   "outputs": [
    {
     "name": "stdout",
     "output_type": "stream",
     "text": [
      "{\n",
      "    \"description\": \"Get a writer object for a new simulation. This is written for paralell use\\n        as it is likely that this may be used in an executable, creating multiple runs\\n        for a parametric space, which may be run in paralell.\",\n",
      "    \"arguments\": [\n",
      "        {\n",
      "            \"name\": \"with\",\n",
      "            \"description\": \"func:`~bamboost.simulation.SimulationWriter.add_parameters`.\"\n",
      "        }\n",
      "    ],\n",
      "    \"return_statement\": \"sim (:class:`~bamboost.simulation.SimulationWriter`)\"\n",
      "}\n"
     ]
    }
   ],
   "source": [
    "import re\n",
    "import json\n",
    "\n",
    "\n",
    "def parse_docstring(docstring):\n",
    "    description_pattern = re.compile(r\"(.+?)(?=\\s*Args:|$)\", re.DOTALL)\n",
    "    args_pattern = re.compile(r\"Args:(.+?)(?=\\s*Returns:|$)\", re.DOTALL)\n",
    "    return_pattern = re.compile(r\"Returns:(.+)\", re.DOTALL)\n",
    "\n",
    "    description_match = description_pattern.search(docstring)\n",
    "    args_match = args_pattern.search(docstring)\n",
    "    return_match = return_pattern.search(docstring)\n",
    "\n",
    "    description = description_match.group(1).strip() if description_match else None\n",
    "    args_section = args_match.group(1).strip() if args_match else None\n",
    "    return_statement = return_match.group(1).strip() if return_match else None\n",
    "\n",
    "    # Extract individual arguments and their descriptions\n",
    "    pattern = re.compile(\n",
    "        r\"^\\s*(?P<name>\\w+)\\s*(?:\\([^`]*\\))?:\\s*(?P<description>.*?)(?=\\s*\\w+\\s*\\(\\s*|$)\",\n",
    "        re.MULTILINE | re.DOTALL,\n",
    "    )\n",
    "\n",
    "    matches = pattern.findall(args_section)\n",
    "    parameters_info = [\n",
    "        {\n",
    "            \"name\": match[0],\n",
    "            \"description\": match[1].strip(),\n",
    "        }\n",
    "        for match in matches\n",
    "    ]\n",
    "\n",
    "    result = {\n",
    "        \"description\": description,\n",
    "        \"arguments\": parameters_info,\n",
    "        \"return_statement\": return_statement,\n",
    "    }\n",
    "\n",
    "    return result\n",
    "\n",
    "\n",
    "docstring = \"\"\"Get a writer object for a new simulation. This is written for paralell use\n",
    "        as it is likely that this may be used in an executable, creating multiple runs\n",
    "        for a parametric space, which may be run in paralell.\n",
    "\n",
    "        Args:\n",
    "            uid (`str`): The name/uid for the simulation. If not specified, a random id\n",
    "                will be assigned.\n",
    "            parameters (`dict`): Parameter dictionary. If provided, the parameters will be\n",
    "                checked against the existing sims for duplication. Otherwise, they may be\n",
    "                specified later with :func:`~bamboost.simulation.SimulationWriter.add_parameters`.\n",
    "            skip_duplicate_check (`bool`): if True, the duplicate check is skipped.\n",
    "        Returns:\n",
    "            sim (:class:`~bamboost.simulation.SimulationWriter`)\n",
    "        \"\"\"\n",
    "\n",
    "import json\n",
    "\n",
    "out = json.dumps(parse_docstring(docstring), indent=4)\n",
    "print(out)"
   ]
  }
 ],
 "metadata": {
  "kernelspec": {
   "display_name": "Python 3",
   "language": "python",
   "name": "python3"
  },
  "language_info": {
   "codemirror_mode": {
    "name": "ipython",
    "version": 3
   },
   "file_extension": ".py",
   "mimetype": "text/x-python",
   "name": "python",
   "nbconvert_exporter": "python",
   "pygments_lexer": "ipython3",
   "version": "3.10.12"
  }
 },
 "nbformat": 4,
 "nbformat_minor": 2
}
